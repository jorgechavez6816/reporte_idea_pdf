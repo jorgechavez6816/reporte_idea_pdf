{
 "cells": [
  {
   "cell_type": "code",
   "execution_count": 1,
   "metadata": {},
   "outputs": [
    {
     "data": {
      "text/plain": [
       "''"
      ]
     },
     "execution_count": 1,
     "metadata": {},
     "output_type": "execute_result"
    }
   ],
   "source": [
    "from fpdf import FPDF\n",
    "\n",
    "pdf = FPDF()\n",
    "fp =  open('C:\\\\Users\\\\Intel\\\\Documents\\\\Mis documentos IDEA\\\\Samples\\\\Exportaciones.ILB\\\\Ejemplo-Autorización.DEL', 'r')\n",
    "\n",
    "# compression is not yet supported in py3k version\n",
    "pdf.compress = False\n",
    "pdf.add_page()\n",
    "# Unicode is not yet supported in the py3k version; use windows-1252 standard font\n",
    "pdf.set_font('Arial', '', 14)  \n",
    "pdf.ln(30)\n",
    "pdf.write(10, 'Resultados de la exportación desde IDEA v.11:')\n",
    "pdf.image(\"C:\\\\Users\\\\Intel\\\\Documents\\\\Mis documentos IDEA\\\\Samples\\\\Archivos fuente.ILB\\\\Logo_CASEWARE.png\", 10, 15)\n",
    "\n",
    "pdf.set_font('Arial', '', 11)\n",
    "line = fp.read() \n",
    "pdf.ln(15)\n",
    "pdf.multi_cell(100, 5, line, 0, 1)\n",
    "pdf.output('Reporte_01.pdf', 'F')"
   ]
  },
  {
   "cell_type": "code",
   "execution_count": null,
   "metadata": {},
   "outputs": [],
   "source": []
  }
 ],
 "metadata": {
  "kernelspec": {
   "display_name": "Python 3",
   "language": "python",
   "name": "python3"
  },
  "language_info": {
   "codemirror_mode": {
    "name": "ipython",
    "version": 3
   },
   "file_extension": ".py",
   "mimetype": "text/x-python",
   "name": "python",
   "nbconvert_exporter": "python",
   "pygments_lexer": "ipython3",
   "version": "3.7.6"
  }
 },
 "nbformat": 4,
 "nbformat_minor": 4
}
